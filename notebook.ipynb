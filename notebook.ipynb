{
 "cells": [
  {
   "cell_type": "markdown",
   "metadata": {},
   "source": [
    "Dynamic Models for Building Energy Management"
   ]
  },
  {
   "cell_type": "code",
   "execution_count": 12,
   "metadata": {},
   "outputs": [
    {
     "ename": "ModuleNotFoundError",
     "evalue": "No module named 'pandas'",
     "output_type": "error",
     "traceback": [
      "\u001b[1;31m---------------------------------------------------------------------------\u001b[0m",
      "\u001b[1;31mModuleNotFoundError\u001b[0m                       Traceback (most recent call last)",
      "\u001b[1;32m<ipython-input-12-fa18575525b6>\u001b[0m in \u001b[0;36m<module>\u001b[1;34m\u001b[0m\n\u001b[0;32m      1\u001b[0m \u001b[1;32mimport\u001b[0m \u001b[0mnumpy\u001b[0m \u001b[1;32mas\u001b[0m \u001b[0mnp\u001b[0m\u001b[1;33m\u001b[0m\u001b[1;33m\u001b[0m\u001b[0m\n\u001b[1;32m----> 2\u001b[1;33m \u001b[1;32mimport\u001b[0m \u001b[0mpandas\u001b[0m \u001b[1;32mas\u001b[0m \u001b[0mpd\u001b[0m\u001b[1;33m\u001b[0m\u001b[1;33m\u001b[0m\u001b[0m\n\u001b[0m\u001b[0;32m      3\u001b[0m \u001b[1;32mimport\u001b[0m \u001b[0mmatplotlib\u001b[0m\u001b[1;33m.\u001b[0m\u001b[0mpyplot\u001b[0m \u001b[1;32mas\u001b[0m \u001b[0mplt\u001b[0m\u001b[1;33m\u001b[0m\u001b[1;33m\u001b[0m\u001b[0m\n",
      "\u001b[1;31mModuleNotFoundError\u001b[0m: No module named 'pandas'"
     ]
    }
   ],
   "source": [
    "import numpy as np\n",
    "import pandas as pd\n",
    "import matplotlib.pyplot as plt"
   ]
  },
  {
   "cell_type": "markdown",
   "metadata": {},
   "source": [
    "Model "
   ]
  },
  {
   "cell_type": "code",
   "execution_count": 5,
   "metadata": {},
   "outputs": [],
   "source": [
    "l = 5               #longueur\n",
    "L = 4               #largeur de la pièce\n",
    "h = 3               #hauteur de la piece\n",
    "Sfenetre = 0.750*0.600\n",
    "Sporte = 2.04*0.7\n",
    "Stot = l*L*h\n",
    "Smur = l*L*h - Sfenetre - Sporte        #surface mur ext\n",
    "hO = 25\n",
    "hi = 7.7"
   ]
  },
  {
   "cell_type": "markdown",
   "metadata": {},
   "source": [
    "Caracteritics "
   ]
  },
  {
   "cell_type": "code",
   "execution_count": 6,
   "metadata": {},
   "outputs": [],
   "source": [
    "lambdafenetre = 1.4\n",
    "\n",
    "lambdaiso = 0.046\n",
    "lambdabeton = 1.4\n",
    "\n",
    "lambdaporte = 0.15 #porte en bois\n",
    "\n",
    "densite_beton = 2300.0\n",
    "densite_iso = 24.0\n",
    "\n",
    "specific_heat_beton = 880\n",
    "specific_heat_iso =1000\n",
    "\n",
    "epaisseur_beton = 0.25\n",
    "epaisseur_iso = 0.15\n",
    "\n",
    "densite_air = 1.2\n",
    "specific_heat_air = 1000"
   ]
  },
  {
   "cell_type": "markdown",
   "metadata": {},
   "source": [
    "Other caracteristics"
   ]
  },
  {
   "cell_type": "code",
   "execution_count": 7,
   "metadata": {},
   "outputs": [
    {
     "ename": "NameError",
     "evalue": "name 'pd' is not defined",
     "output_type": "error",
     "traceback": [
      "\u001b[1;31m---------------------------------------------------------------------------\u001b[0m",
      "\u001b[1;31mNameError\u001b[0m                                 Traceback (most recent call last)",
      "\u001b[1;32m<ipython-input-7-6a3f787dad94>\u001b[0m in \u001b[0;36m<module>\u001b[1;34m\u001b[0m\n\u001b[0;32m      1\u001b[0m air = {'Density': 1.2,                      # kg/m³\n\u001b[0;32m      2\u001b[0m        'Specific heat': 1000}               # J/(kg·K)\n\u001b[1;32m----> 3\u001b[1;33m \u001b[0mpd\u001b[0m\u001b[1;33m.\u001b[0m\u001b[0mDataFrame\u001b[0m\u001b[1;33m(\u001b[0m\u001b[0mair\u001b[0m\u001b[1;33m,\u001b[0m \u001b[0mindex\u001b[0m\u001b[1;33m=\u001b[0m\u001b[1;33m[\u001b[0m\u001b[1;34m'Air'\u001b[0m\u001b[1;33m]\u001b[0m\u001b[1;33m)\u001b[0m\u001b[1;33m\u001b[0m\u001b[1;33m\u001b[0m\u001b[0m\n\u001b[0m\u001b[0;32m      4\u001b[0m \u001b[1;33m\u001b[0m\u001b[0m\n\u001b[0;32m      5\u001b[0m concrete = {'Conductivity': 1.400,          # W/(m·K)\n",
      "\u001b[1;31mNameError\u001b[0m: name 'pd' is not defined"
     ]
    }
   ],
   "source": [
    "air = {'Density': 1.2,                      # kg/m³\n",
    "       'Specific heat': 1000}               # J/(kg·K)\n",
    "pd.DataFrame(air, index=['Air'])\n",
    "\n",
    "concrete = {'Conductivity': 1.400,          # W/(m·K)\n",
    "            'Density': 2300.0,              # kg/m³\n",
    "            'Specific heat': 880,           # J/(kg⋅K)\n",
    "            'Width': 0.25,                   # m\n",
    "            'Surface': Smur}            # m²\n",
    "\n",
    "insulation = {'Conductivity': 0.046,        # W/(m·K)\n",
    "              'Density': 24.0,              # kg/m³\n",
    "              'Specific heat': 1000,        # J/(kg⋅K)\n",
    "              'Width': 0.15,                # m\n",
    "              'Surface': Smur}          # m²\n",
    "\n",
    "glass = {'Conductivity': 1.4,               # W/(m·K)\n",
    "         'Density': 2500,                   # kg/m³\n",
    "         'Specific heat': 1210,             # J/(kg⋅K)\n",
    "         'Width': 0.08,                     # m\n",
    "         'Surface': Sfenetre}                   # m²\n",
    "\n",
    "wall = pd.DataFrame.from_dict({'Layer_out': concrete,\n",
    "                               'Layer_in': insulation,\n",
    "                               'Glass': glass},\n",
    "                              orient='index')\n",
    "\n",
    "# ventilation flow rate\n",
    "Va = l**3                   # m³, volume of air\n",
    "ACH = 1                     # 1/h, air changes per hour\n",
    "Va_dot = ACH / 3600 * Va    # m³/s, air infiltration\n",
    "\n",
    "\n",
    "Kp = 0"
   ]
  },
  {
   "cell_type": "markdown",
   "metadata": {},
   "source": [
    "Matrix C computation "
   ]
  },
  {
   "cell_type": "code",
   "execution_count": 1,
   "metadata": {},
   "outputs": [
    {
     "ename": "NameError",
     "evalue": "name 'densite_beton' is not defined",
     "output_type": "error",
     "traceback": [
      "\u001b[1;31m---------------------------------------------------------------------------\u001b[0m",
      "\u001b[1;31mNameError\u001b[0m                                 Traceback (most recent call last)",
      "\u001b[1;32m<ipython-input-1-08eaf9945076>\u001b[0m in \u001b[0;36m<module>\u001b[1;34m\u001b[0m\n\u001b[1;32m----> 1\u001b[1;33m \u001b[0mCmur\u001b[0m \u001b[1;33m=\u001b[0m \u001b[0mdensite_beton\u001b[0m \u001b[1;33m*\u001b[0m \u001b[0mspecific_heat_beton\u001b[0m \u001b[1;33m*\u001b[0m \u001b[0mepaisseur_beton\u001b[0m \u001b[1;33m*\u001b[0m \u001b[0mSmur\u001b[0m\u001b[1;33m\u001b[0m\u001b[1;33m\u001b[0m\u001b[0m\n\u001b[0m\u001b[0;32m      2\u001b[0m \u001b[0mCiso\u001b[0m \u001b[1;33m=\u001b[0m \u001b[0mdensite_iso\u001b[0m \u001b[1;33m*\u001b[0m \u001b[0mspecific_heat_iso\u001b[0m \u001b[1;33m*\u001b[0m \u001b[0mepaisseur_iso\u001b[0m \u001b[1;33m*\u001b[0m \u001b[0mSmur\u001b[0m\u001b[1;33m\u001b[0m\u001b[1;33m\u001b[0m\u001b[0m\n\u001b[0;32m      3\u001b[0m \u001b[0mCair\u001b[0m \u001b[1;33m=\u001b[0m \u001b[0mdensite_air\u001b[0m \u001b[1;33m*\u001b[0m \u001b[0mspecific_heat_air\u001b[0m \u001b[1;33m*\u001b[0m \u001b[0mVa\u001b[0m\u001b[1;33m\u001b[0m\u001b[1;33m\u001b[0m\u001b[0m\n\u001b[0;32m      4\u001b[0m \u001b[1;33m\u001b[0m\u001b[0m\n\u001b[0;32m      5\u001b[0m \u001b[0mC0\u001b[0m \u001b[1;33m=\u001b[0m \u001b[0mCmur\u001b[0m\u001b[1;33m/\u001b[0m\u001b[1;36m3\u001b[0m\u001b[1;33m\u001b[0m\u001b[1;33m\u001b[0m\u001b[0m\n",
      "\u001b[1;31mNameError\u001b[0m: name 'densite_beton' is not defined"
     ]
    }
   ],
   "source": [
    "Cmur = densite_beton * specific_heat_beton * epaisseur_beton * Smur\n",
    "Ciso = densite_iso * specific_heat_iso * epaisseur_iso * Smur\n",
    "Cair = densite_air * specific_heat_air * Va\n",
    "\n",
    "C0 = Cmur/3\n",
    "C1 = Cmur/3\n",
    "C2 = Cmur/3\n",
    "C3 = Ciso/2\n",
    "C4 = Ciso/2\n",
    "C5 = Cair\n",
    "\n",
    "C_values = [C0, C1, C2, C3, C4, C5]\n",
    "C = np.diag(C_values)\n",
    "\n",
    "np.set_printoptions(precision=2, suppress=True)\n",
    "\n",
    "print(\"C =\")\n",
    "print(C)"
   ]
  },
  {
   "cell_type": "markdown",
   "metadata": {},
   "source": [
    "Modelling "
   ]
  },
  {
   "cell_type": "code",
   "execution_count": null,
   "metadata": {},
   "outputs": [],
   "source": [
    "# temperature nodes\n",
    "θ = ['θ0', 'θ1', 'θ2', 'θ3', 'θ4', 'θ5']\n",
    "\n",
    "# flow-rate branches\n",
    "q = ['q0', 'q1', 'q2', 'q3', 'q4', 'q5', 'q6', 'q7', 'q8', 'q9']\n",
    "\n",
    "# temperature nodes\n",
    "nθ = 6     # number of temperature nodes\n",
    "θ = [f'θ{i}' for i in range(6)]\n",
    "\n",
    "# flow-rate branches\n",
    "nq = 10     # number of flow branches\n",
    "q = [f'q{i}' for i in range(10)]"
   ]
  },
  {
   "cell_type": "markdown",
   "metadata": {},
   "source": [
    "Matrix A computation "
   ]
  },
  {
   "cell_type": "code",
   "execution_count": null,
   "metadata": {},
   "outputs": [],
   "source": [
    "A = np.zeros([10, 6])       # n° of branches X n° of nodes\n",
    "A[0, 0] = 1                 # branch 0: -> node 0\n",
    "A[1, 0], A[1, 1] = -1, 1    # branch 1: node 0 -> node 1\n",
    "A[2, 1], A[2, 2] = -1, 1    # branch 2: node 1 -> node 2\n",
    "A[3, 2], A[3, 3] = -1, 1    # branch 3: node 2 -> node 3\n",
    "A[4, 3], A[4, 4] = -1, 1    # branch 4: node 3 -> node 4\n",
    "A[5, 5] = 1    # branch 5: node 4 -> node 5\n",
    "A[6, 5] = 1    # branch 6: node 4 -> node 6\n",
    "A[7, 5] =1    # branch 7: node 5 -> node 6\n",
    "A[8, 5] = 1                 # branch 8: -> node 7\n",
    "A[9, 5]= 1    # branch 9: node 5 -> node 7\n",
    "print(\"A=\")\n",
    "print(A)\n",
    "pd.DataFrame(A, index=q, columns=θ)"
   ]
  },
  {
   "cell_type": "markdown",
   "metadata": {},
   "source": [
    "Matrix G computation "
   ]
  },
  {
   "cell_type": "code",
   "execution_count": null,
   "metadata": {},
   "outputs": [],
   "source": [
    "G0 = hO*Stot\n",
    "\n",
    "G1 = (lambdabeton/0.125)*Smur\n",
    "G2 = (lambdabeton/0.125)*Smur\n",
    "\n",
    "G3 = (lambdaiso/0.075)*Smur\n",
    "G4 = (lambdaiso/0.075)*Smur\n",
    "\n",
    "G5 =  hi*Stot\n",
    "\n",
    "G6 =(lambdafenetre/0.08)*Sfenetre\n",
    "\n",
    "G7 = Kp\n",
    "\n",
    "G8 = air['Density'] * air['Specific heat'] * Va_dot\n",
    "\n",
    "G9 =(lambdaporte/0.4)*Sporte\n",
    "\n",
    "\n",
    "\n",
    "G_values = [G0, G1, G2, G3, G4, G5, G6, G7, G8, G9]\n",
    "G = np.diag(G_values)\n",
    "\n",
    "np.set_printoptions(precision=2, suppress=True)\n",
    "\n",
    "print(\"G =\")\n",
    "print(G)\n"
   ]
  },
  {
   "cell_type": "markdown",
   "metadata": {},
   "source": [
    "Steady state response "
   ]
  },
  {
   "cell_type": "code",
   "execution_count": null,
   "metadata": {},
   "outputs": [],
   "source": [
    "# Input vectors\n",
    "b = np.zeros(10)  # temperatures\n",
    "f = np.zeros(6)  # flow rates\n",
    "\n",
    "\n",
    "b[0] = 1\n",
    "\n",
    "θ_steady_To = np.linalg.inv(A.T @ G @ A) @ (A.T @ G @ b + f)\n",
    "\n",
    "\n",
    "np.set_printoptions(precision=3)\n",
    "\n",
    "print('When To = 1°C, the temperatures in steady-state are:', θ_steady_To, '°C')\n",
    "print(f'The indoor temperature is: {θ_steady_To[-1]:.3f} °C')"
   ]
  }
 ],
 "metadata": {
  "kernelspec": {
   "display_name": "Python 3",
   "language": "python",
   "name": "python3"
  },
  "language_info": {
   "codemirror_mode": {
    "name": "ipython",
    "version": 3
   },
   "file_extension": ".py",
   "mimetype": "text/x-python",
   "name": "python",
   "nbconvert_exporter": "python",
   "pygments_lexer": "ipython3",
   "version": "3.6.8"
  }
 },
 "nbformat": 4,
 "nbformat_minor": 2
}
