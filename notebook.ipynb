{
 "cells": [
  {
   "cell_type": "markdown",
   "metadata": {},
   "source": [
    "Dynamic Models for Building Energy Management"
   ]
  },
  {
   "cell_type": "markdown",
   "metadata": {},
   "source": [
    "Librairies importation"
   ]
  },
  {
   "cell_type": "code",
   "execution_count": 3,
   "metadata": {},
   "outputs": [
    {
     "ename": "ModuleNotFoundError",
     "evalue": "No module named 'dm4bem'",
     "output_type": "error",
     "traceback": [
      "\u001b[1;31m---------------------------------------------------------------------------\u001b[0m",
      "\u001b[1;31mModuleNotFoundError\u001b[0m                       Traceback (most recent call last)",
      "\u001b[1;32m~\\AppData\\Local\\Temp\\ipykernel_7544\\367364672.py\u001b[0m in \u001b[0;36m<module>\u001b[1;34m\u001b[0m\n\u001b[0;32m      2\u001b[0m \u001b[1;32mimport\u001b[0m \u001b[0mpandas\u001b[0m \u001b[1;32mas\u001b[0m \u001b[0mpd\u001b[0m\u001b[1;33m\u001b[0m\u001b[1;33m\u001b[0m\u001b[0m\n\u001b[0;32m      3\u001b[0m \u001b[1;32mimport\u001b[0m \u001b[0mmatplotlib\u001b[0m\u001b[1;33m.\u001b[0m\u001b[0mpyplot\u001b[0m \u001b[1;32mas\u001b[0m \u001b[0mplt\u001b[0m\u001b[1;33m\u001b[0m\u001b[1;33m\u001b[0m\u001b[0m\n\u001b[1;32m----> 4\u001b[1;33m \u001b[1;32mimport\u001b[0m \u001b[0mdm4bem\u001b[0m\u001b[1;33m\u001b[0m\u001b[1;33m\u001b[0m\u001b[0m\n\u001b[0m",
      "\u001b[1;31mModuleNotFoundError\u001b[0m: No module named 'dm4bem'"
     ]
    }
   ],
   "source": [
    "import numpy as np\n",
    "import pandas as pd\n",
    "import matplotlib.pyplot as plt\n",
    "import dm4bem"
   ]
  },
  {
   "cell_type": "markdown",
   "metadata": {},
   "source": [
    "conditions choice"
   ]
  },
  {
   "cell_type": "code",
   "execution_count": 4,
   "metadata": {},
   "outputs": [],
   "source": [
    "controller = False\n",
    "neglect_air_glass_capacity = False\n",
    "imposed_time_step = False\n",
    "Δt = 498    # s, imposed time step"
   ]
  },
  {
   "cell_type": "markdown",
   "metadata": {},
   "source": [
    "Model of our room"
   ]
  },
  {
   "cell_type": "code",
   "execution_count": 5,
   "metadata": {},
   "outputs": [],
   "source": [
    "l = 5               #longueur\n",
    "L = 4               #largeur de la pièce\n",
    "h = 3               #hauteur de la piece\n",
    "Sfenetre = 0.750*0.600\n",
    "Sporte = 2.04*0.7\n",
    "Stot = l*L*h\n",
    "Smur = l*L*h - Sfenetre - Sporte        #surface mur ext\n",
    "hO = 25\n",
    "hi = 7.7"
   ]
  },
  {
   "cell_type": "markdown",
   "metadata": {},
   "source": [
    "Thermal caracteritics of our room "
   ]
  },
  {
   "cell_type": "code",
   "execution_count": 6,
   "metadata": {},
   "outputs": [],
   "source": [
    "lambdafenetre = 1.4\n",
    "\n",
    "lambdaiso = 0.046\n",
    "lambdabeton = 1.4\n",
    "\n",
    "lambdaporte = 0.15 #porte en bois\n",
    "\n",
    "densite_beton = 2300.0\n",
    "densite_iso = 24.0\n",
    "\n",
    "specific_heat_beton = 880\n",
    "specific_heat_iso =1000\n",
    "\n",
    "epaisseur_beton = 0.25\n",
    "epaisseur_iso = 0.15\n",
    "\n",
    "densite_air = 1.2\n",
    "specific_heat_air = 1000"
   ]
  },
  {
   "cell_type": "markdown",
   "metadata": {},
   "source": [
    "Ventilation caracteristics"
   ]
  },
  {
   "cell_type": "code",
   "execution_count": 7,
   "metadata": {},
   "outputs": [],
   "source": [
    "# ventilation flow rate\n",
    "Va = l**3                   # m³, volume of air\n",
    "ACH = 1                     # 1/h, air changes per hour\n",
    "Va_dot = ACH / 3600 * Va    # m³/s, air infiltration\n",
    "\n",
    "\n",
    "Kp = 1e5"
   ]
  },
  {
   "cell_type": "markdown",
   "metadata": {},
   "source": [
    "Creation of the flow rate source and temperature vectors"
   ]
  },
  {
   "cell_type": "code",
   "execution_count": 8,
   "metadata": {},
   "outputs": [],
   "source": [
    "# temperature nodes\n",
    "θ = ['θ0', 'θ1', 'θ2', 'θ3', 'θ4', 'θ5']\n",
    "# flow-rate branches\n",
    "q = ['q0', 'q1', 'q2', 'q3', 'q4', 'q5', 'q6', 'q7', 'q8', 'q9']"
   ]
  },
  {
   "cell_type": "markdown",
   "metadata": {},
   "source": [
    "Matrix C computation "
   ]
  },
  {
   "cell_type": "code",
   "execution_count": 9,
   "metadata": {},
   "outputs": [
    {
     "name": "stdout",
     "output_type": "stream",
     "text": [
      "C =\n",
      "[[       0.         0.         0.         0.         0.         0. ]\n",
      " [       0.  29409732.         0.         0.         0.         0. ]\n",
      " [       0.         0.         0.         0.         0.         0. ]\n",
      " [       0.         0.         0.    209239.2        0.         0. ]\n",
      " [       0.         0.         0.         0.         0.         0. ]\n",
      " [       0.         0.         0.         0.         0.    150000. ]]\n"
     ]
    }
   ],
   "source": [
    "Cmur = densite_beton * specific_heat_beton * epaisseur_beton * Smur\n",
    "Ciso = densite_iso * specific_heat_iso * epaisseur_iso * Smur\n",
    "Cair = densite_air * specific_heat_air * Va\n",
    "\n",
    "\n",
    "\n",
    "Cvalues = np.zeros(6)\n",
    "\n",
    "Cvalues[1] = Cmur\n",
    "Cvalues[3] = Ciso\n",
    "Cvalues[5] = Cair\n",
    "\n",
    "\n",
    "C = np.diag(Cvalues)\n",
    "\n",
    "print(\"C =\")\n",
    "print(C)"
   ]
  },
  {
   "cell_type": "markdown",
   "metadata": {},
   "source": [
    "Modelling of temperature and flow rate vectors "
   ]
  },
  {
   "cell_type": "code",
   "execution_count": 10,
   "metadata": {},
   "outputs": [],
   "source": [
    "# temperature nodes\n",
    "nθ = 6     # number of temperature nodes\n",
    "θ = [f'θ{i}' for i in range(6)]\n",
    "\n",
    "# flow-rate branches\n",
    "nq = 10     # number of flow branches\n",
    "q = [f'q{i}' for i in range(10)]"
   ]
  },
  {
   "cell_type": "markdown",
   "metadata": {},
   "source": [
    "Matrix A computation "
   ]
  },
  {
   "cell_type": "code",
   "execution_count": 11,
   "metadata": {},
   "outputs": [
    {
     "name": "stdout",
     "output_type": "stream",
     "text": [
      "A=\n",
      "[[ 1.  0.  0.  0.  0.  0.]\n",
      " [-1.  1.  0.  0.  0.  0.]\n",
      " [ 0. -1.  1.  0.  0.  0.]\n",
      " [ 0.  0. -1.  1.  0.  0.]\n",
      " [ 0.  0.  0. -1.  1.  0.]\n",
      " [ 0.  0.  0.  0. -1.  1.]\n",
      " [ 0.  0.  0.  0.  0.  1.]\n",
      " [ 0.  0.  0.  0.  0.  1.]\n",
      " [ 0.  0.  0.  0.  0.  1.]\n",
      " [ 0.  0.  0.  0.  0.  1.]]\n"
     ]
    }
   ],
   "source": [
    "A = np.zeros([10, 6])       # n° of branches X n° of nodes\n",
    "A[0, 0] = 1                \n",
    "A[1, 0], A[1, 1] = -1, 1    \n",
    "A[2, 1], A[2, 2] = -1, 1   \n",
    "A[3, 2], A[3, 3] = -1, 1    \n",
    "A[4, 3], A[4, 4] = -1, 1   \n",
    "A[5,4] = -1\n",
    "A[5, 5] = 1    \n",
    "A[6, 5] = 1   \n",
    "A[7, 5] =1    \n",
    "A[8, 5] = 1                 \n",
    "A[9, 5]= 1    \n",
    "print(\"A=\")\n",
    "print(A)"
   ]
  },
  {
   "cell_type": "markdown",
   "metadata": {},
   "source": [
    "Matrix G computation "
   ]
  },
  {
   "cell_type": "code",
   "execution_count": 19,
   "metadata": {},
   "outputs": [
    {
     "name": "stdout",
     "output_type": "stream",
     "text": [
      "G =\n",
      "[[1.50000000e+03 0.00000000e+00 0.00000000e+00 0.00000000e+00\n",
      "  0.00000000e+00 0.00000000e+00 0.00000000e+00 0.00000000e+00\n",
      "  0.00000000e+00 0.00000000e+00]\n",
      " [0.00000000e+00 6.50966400e+02 0.00000000e+00 0.00000000e+00\n",
      "  0.00000000e+00 0.00000000e+00 0.00000000e+00 0.00000000e+00\n",
      "  0.00000000e+00 0.00000000e+00]\n",
      " [0.00000000e+00 0.00000000e+00 6.50966400e+02 0.00000000e+00\n",
      "  0.00000000e+00 0.00000000e+00 0.00000000e+00 0.00000000e+00\n",
      "  0.00000000e+00 0.00000000e+00]\n",
      " [0.00000000e+00 0.00000000e+00 0.00000000e+00 3.56481600e+01\n",
      "  0.00000000e+00 0.00000000e+00 0.00000000e+00 0.00000000e+00\n",
      "  0.00000000e+00 0.00000000e+00]\n",
      " [0.00000000e+00 0.00000000e+00 0.00000000e+00 0.00000000e+00\n",
      "  3.56481600e+01 0.00000000e+00 0.00000000e+00 0.00000000e+00\n",
      "  0.00000000e+00 0.00000000e+00]\n",
      " [0.00000000e+00 0.00000000e+00 0.00000000e+00 0.00000000e+00\n",
      "  0.00000000e+00 4.62000000e+02 0.00000000e+00 0.00000000e+00\n",
      "  0.00000000e+00 0.00000000e+00]\n",
      " [0.00000000e+00 0.00000000e+00 0.00000000e+00 0.00000000e+00\n",
      "  0.00000000e+00 0.00000000e+00 7.87500000e+00 0.00000000e+00\n",
      "  0.00000000e+00 0.00000000e+00]\n",
      " [0.00000000e+00 0.00000000e+00 0.00000000e+00 0.00000000e+00\n",
      "  0.00000000e+00 0.00000000e+00 0.00000000e+00 5.35500000e-01\n",
      "  0.00000000e+00 0.00000000e+00]\n",
      " [0.00000000e+00 0.00000000e+00 0.00000000e+00 0.00000000e+00\n",
      "  0.00000000e+00 0.00000000e+00 0.00000000e+00 0.00000000e+00\n",
      "  4.16666667e+01 0.00000000e+00]\n",
      " [0.00000000e+00 0.00000000e+00 0.00000000e+00 0.00000000e+00\n",
      "  0.00000000e+00 0.00000000e+00 0.00000000e+00 0.00000000e+00\n",
      "  0.00000000e+00 1.00000000e+05]]\n"
     ]
    }
   ],
   "source": [
    "G0 = hO*Stot\n",
    "\n",
    "G1 = (lambdabeton/0.125)*Smur\n",
    "G2 = (lambdabeton/0.125)*Smur\n",
    "\n",
    "G3 = (lambdaiso/0.075)*Smur\n",
    "G4 = (lambdaiso/0.075)*Smur\n",
    "\n",
    "G5 =  hi*Stot\n",
    "\n",
    "G6 =(lambdafenetre/0.08)*Sfenetre\n",
    "\n",
    "G7 = (lambdaporte/0.4)*Sporte\n",
    "\n",
    "G8 = densite_air * specific_heat_air * Va_dot\n",
    "\n",
    "G9 = Kp\n",
    "\n",
    "\n",
    "Gvalues = np.array(np.hstack([G0, G1, G2, G3, G4, G5, G6, G7, G8, G9]))\n",
    "\n",
    "G = np.diag(Gvalues)\n",
    "\n",
    "print(\"G =\")\n",
    "print(G)"
   ]
  },
  {
   "cell_type": "markdown",
   "metadata": {},
   "source": [
    "Radiative properties"
   ]
  },
  {
   "cell_type": "code",
   "execution_count": 14,
   "metadata": {},
   "outputs": [],
   "source": [
    "Qa = 1200\n",
    "\n",
    "ε_wLW = 0.85    # long wave emmisivity: wall surface (concrete)\n",
    "ε_gLW = 0.90    # long wave emmisivity: glass pyrex\n",
    "α_wSW = 0.25    # short wave absortivity: white smooth surface\n",
    "α_gSW = 0.38    # short wave absortivity: reflective blue glass\n",
    "τ_gSW = 0.30    # short wave transmitance: reflective blue glass\n",
    "\n",
    "E = 50 #total irradiance receivend by the wall or window"
   ]
  },
  {
   "cell_type": "markdown",
   "metadata": {},
   "source": [
    "Flow rate vector f computation"
   ]
  },
  {
   "cell_type": "code",
   "execution_count": 16,
   "metadata": {},
   "outputs": [
    {
     "name": "stdout",
     "output_type": "stream",
     "text": [
      "f =\n",
      "[726.525, 0, 0, 0, 726.525, 331.2954]\n"
     ]
    }
   ],
   "source": [
    "Φo = α_wSW*E*Smur\n",
    "Φi = τ_gSW*α_gSW*E*Smur\n",
    "\n",
    "\n",
    "f = [Φo,0,0,0,Φo,Φi] # flow rates\n",
    "print(\"f =\")\n",
    "print(f)"
   ]
  },
  {
   "cell_type": "markdown",
   "metadata": {},
   "source": [
    "Computation on the imput vector b"
   ]
  },
  {
   "cell_type": "code",
   "execution_count": 17,
   "metadata": {},
   "outputs": [
    {
     "name": "stdout",
     "output_type": "stream",
     "text": [
      "b =\n",
      "[10.  0.  0.  0.  0.  0. 10. 10. 10. 20.]\n"
     ]
    }
   ],
   "source": [
    "T0 = 10\n",
    "Tisp = 20\n",
    "\n",
    "# Input vectors\n",
    "b = np.zeros(10)  # temperatures\n",
    "\n",
    "b[0] = T0\n",
    "b[6] = T0\n",
    "b[7] = T0\n",
    "b[8] = T0\n",
    "b[9] = Tisp\n",
    "\n",
    "print(\"b =\")\n",
    "print(b)\n"
   ]
  },
  {
   "cell_type": "markdown",
   "metadata": {},
   "source": [
    "Steady state response "
   ]
  },
  {
   "cell_type": "code",
   "execution_count": 20,
   "metadata": {},
   "outputs": [
    {
     "name": "stdout",
     "output_type": "stream",
     "text": [
      "y =\n",
      "[0, 0, 0, 0, 0, 1]\n",
      "θ = [10.6  10.88 11.15 16.17 21.19 20.  ] °C\n",
      "The indoor temperature is: 20.004 °C\n"
     ]
    }
   ],
   "source": [
    "y = [0,0,0,0,0,0]         # nodes\n",
    "y[5] = 1              # nodes (temperatures) of interest\n",
    "\n",
    "print(\"y =\")\n",
    "print(y)\n",
    "\n",
    "\n",
    "θ = np.linalg.inv(A.T @ G @ A) @ (A.T @ G @ b + f)\n",
    "\n",
    "\n",
    "print(f'θ = {np.around(θ, 2)} °C')\n",
    "print(f'The indoor temperature is: {θ[-1]:.3f} °C')"
   ]
  },
  {
   "cell_type": "markdown",
   "metadata": {},
   "source": [
    "Modeling "
   ]
  },
  {
   "cell_type": "code",
   "execution_count": null,
   "metadata": {},
   "outputs": [],
   "source": [
    "# temperature nodes\n",
    "nθ = 6     # number of temperature nodes\n",
    "θ = [f'θ{i}' for i in range(6)]\n",
    "\n",
    "# flow-rate branches\n",
    "nq = 10     # number of flow branches\n",
    "q = [f'q{i}' for i in range(10)]\n",
    "\n",
    "A = pd.DataFrame(A, index=q, columns=θ)\n",
    "G = pd.Series(Gvalues, index=q)\n",
    "C = pd.Series(Cvalues, index=θ)\n",
    "b = pd.Series(b, index=q)\n",
    "f = pd.Series(f, index=θ)\n",
    "y = pd.Series(y, index=θ)\n",
    "\n",
    "TC = {\"A\": A,\n",
    "      \"G\": G,\n",
    "      \"C\": C,\n",
    "      \"b\": b,\n",
    "      \"f\": f,\n",
    "      \"y\": y}"
   ]
  },
  {
   "cell_type": "markdown",
   "metadata": {},
   "source": [
    "Steady-state from differential algebraic equations (DAE)"
   ]
  },
  {
   "cell_type": "code",
   "execution_count": null,
   "metadata": {},
   "outputs": [],
   "source": [
    "[As, Bs, Cs, Ds, us] = dm4bem.tc2ss(TC)\n",
    "\n",
    "\n",
    "print(\"As =\\n\", As)\n",
    "print(\"\\nBs =\\n\", Bs)\n",
    "print(\"\\nCs =\\n\", Cs)\n",
    "print(\"\\nDs =\\n\", Ds)\n",
    "print(\"\\nus =\\n\", us)\n",
    "\n",
    "# Input vectors\n",
    "bss = np.zeros(10)  # temperatures\n",
    "\n",
    "bss[0] = T0\n",
    "bss[6] = T0\n",
    "bss[7] = T0\n",
    "bss[8] = T0\n",
    "bss[9] = Tisp\n",
    "\n",
    "fss = np.zeros(6)         # flow-rate sources f for steady state\n",
    "\n",
    "\n",
    "A = TC['A']\n",
    "G = TC['G']\n",
    "diag_G = pd.DataFrame(np.diag(G), index=G.index, columns=G.index)\n",
    "\n",
    "θss = np.linalg.inv(A.T @ diag_G @ A) @ (A.T @ diag_G @ bss + fss)\n",
    "\n",
    "\n",
    "print(f'θss = {np.around(θss, 2)} °C')\n"
   ]
  },
  {
   "cell_type": "markdown",
   "metadata": {},
   "source": [
    "Steady state (DAE) with a flux"
   ]
  },
  {
   "cell_type": "code",
   "execution_count": null,
   "metadata": {},
   "outputs": [],
   "source": [
    "bssQ = np.zeros(10)  \n",
    "\n",
    "bssQ[0] = T0\n",
    "bssQ[6] = T0\n",
    "bssQ[7] = T0\n",
    "bssQ[8] = T0\n",
    "bssQ[9] = Tisp       # temperature sources b for steady state\n",
    "\n",
    "fssQ = [Φo,0,0,0,Φo,Φi]       # flow-rate sources f for steady state\n",
    "\n",
    "\n",
    "θssQ = np.linalg.inv(A.T @ diag_G @ A) @ (A.T @ diag_G @ bssQ + fssQ)\n",
    "print(f'θssQ = {np.around(θssQ, 2)} °C')\n"
   ]
  },
  {
   "cell_type": "markdown",
   "metadata": {},
   "source": [
    "Steady-state from state-space representation"
   ]
  },
  {
   "cell_type": "code",
   "execution_count": null,
   "metadata": {},
   "outputs": [],
   "source": [
    "bT = np.array([T0, T0, T0, T0, Tisp])     # [To, To, To, T0, Tisp]\n",
    "fQ = np.array([0, 0, 0])         # [Φo, Φi, Qa]\n",
    "uss = np.hstack([bT, fQ])           # input vector for state space\n",
    "print(f'uss = {uss}')\n",
    "\n",
    "\n",
    "inv_As = pd.DataFrame(np.linalg.inv(As),\n",
    "                      columns=As.index, index=As.index)\n",
    "yss = (-Cs @ inv_As @ Bs + Ds) @ uss\n",
    "\n",
    "yss = float(yss.values[0])\n",
    "print(f'yss = {yss:.2f} °C')\n",
    "\n",
    "print(f'Error between DAE and state-space: {abs(θss[5] - yss):.2e} °C')\n",
    "\n",
    "bTQ = np.array([T0, T0, T0, T0, Tisp])     # [To, To, To, T0, Tisp]\n",
    "fQQ = np.array([0, 0, 0])         # [Φo, Φi, Qa]\n",
    "ussQ = np.hstack([bTQ, fQQ])           # input vector for state space\n",
    "print(f'ussQ = {ussQ}')\n",
    "\n",
    "\n",
    "\n",
    "yssQ = (-Cs @ inv_As @ Bs + Ds) @ ussQ\n",
    "\n",
    "yssQ = float(yssQ.values[0])\n",
    "print(f'yssQ = {yssQ:.2f} °C')\n",
    "\n",
    "print(f'Error between DAE and state-space: {abs(θssQ[5] - yssQ):.2e} °C')\n"
   ]
  },
  {
   "cell_type": "markdown",
   "metadata": {},
   "source": [
    " PARTIE 2 : Simulate step response"
   ]
  },
  {
   "cell_type": "markdown",
   "metadata": {},
   "source": [
    "Eigenvalues analysis"
   ]
  },
  {
   "cell_type": "code",
   "execution_count": null,
   "metadata": {},
   "outputs": [],
   "source": [
    "λ = np.linalg.eig(As)[0]        # eigenvalues of matrix As\n",
    "\n",
    "print(λ)"
   ]
  },
  {
   "cell_type": "markdown",
   "metadata": {},
   "source": [
    "Time step computation"
   ]
  },
  {
   "cell_type": "code",
   "execution_count": null,
   "metadata": {},
   "outputs": [],
   "source": [
    "Δtmax = 2 * min(-1. / λ)    # max time step for stability of Euler explicit\n",
    "dm4bem.print_rounded_time('Δtmax', Δtmax)\n",
    "\n",
    "if imposed_time_step:\n",
    "    dt = Δt\n",
    "else:\n",
    "    dt = dm4bem.round_time(Δtmax)\n",
    "dm4bem.print_rounded_time('dt', dt)\n",
    "\n",
    "print(dt)\n",
    "\n",
    "\"\"\"\n",
    "if dt < 10:\n",
    "    raise ValueError(\"Time step is too small. Stopping the script.\")\n",
    "\n",
    "\"\"\""
   ]
  },
  {
   "cell_type": "markdown",
   "metadata": {},
   "source": [
    "Settling time computation"
   ]
  },
  {
   "cell_type": "code",
   "execution_count": null,
   "metadata": {},
   "outputs": [],
   "source": [
    "t_settle = 4 * max(-1 / λ)\n",
    "dm4bem.print_rounded_time('t_settle', t_settle)\n",
    "\n",
    "# duration: next multiple of 3600 s that is larger than t_settle\n",
    "duration = np.ceil(t_settle / 3600) * 3600\n",
    "dm4bem.print_rounded_time('duration', duration)"
   ]
  },
  {
   "cell_type": "markdown",
   "metadata": {},
   "source": [
    "Creation of an input data set"
   ]
  },
  {
   "cell_type": "code",
   "execution_count": null,
   "metadata": {},
   "outputs": [],
   "source": [
    "# time vector\n",
    "n = int(np.floor(duration / dt))    # number of time steps\n",
    "\n",
    "# DateTimeIndex starting at \"00:00:00\" with a time step of dt\n",
    "time = pd.date_range(start=\"2000-01-01 00:00:00\",\n",
    "                           periods=n, freq=f\"{int(dt)}s\")\n",
    "\n",
    "To = 10 * np.ones(n)        # outdoor temperature\n",
    "Ti_sp = 20 * np.ones(n)     # indoor temperature set point\n",
    "Φa = 0 * np.ones(n)         # solar radiation absorbed by the glass\n",
    "Qa = Φo = Φi = Φa           # auxiliary heat sources and solar radiation\n",
    "\n",
    "data = {'To': To, 'Ti_sp': Ti_sp, 'Φo': Φo, 'Φi': Φi, 'Qa': Qa, 'Φa': Φa}\n",
    "input_data_set = pd.DataFrame(data, index=time)\n",
    "\n",
    "# inputs in time from input_data_set\n",
    "#u = dm4bem.inputs_in_time(us, input_data_set)"
   ]
  }
 ],
 "metadata": {
  "kernelspec": {
   "display_name": "Python 3 (ipykernel)",
   "language": "python",
   "name": "python3"
  },
  "language_info": {
   "codemirror_mode": {
    "name": "ipython",
    "version": 3
   },
   "file_extension": ".py",
   "mimetype": "text/x-python",
   "name": "python",
   "nbconvert_exporter": "python",
   "pygments_lexer": "ipython3",
   "version": "3.9.13"
  }
 },
 "nbformat": 4,
 "nbformat_minor": 2
}
