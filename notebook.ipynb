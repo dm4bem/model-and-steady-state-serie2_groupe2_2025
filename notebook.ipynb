{
 "cells": [
  {
   "cell_type": "markdown",
   "metadata": {},
   "source": [
    "Dynamic Models for Building Energy Management"
   ]
  },
  {
   "cell_type": "code",
   "execution_count": 1,
   "metadata": {},
   "outputs": [],
   "source": [
    "import numpy as np\n",
    "import pandas as pd\n",
    "import matplotlib.pyplot as plt"
   ]
  },
  {
   "cell_type": "markdown",
   "metadata": {},
   "source": [
    "Model "
   ]
  },
  {
   "cell_type": "code",
   "execution_count": 3,
   "metadata": {},
   "outputs": [],
   "source": [
    "l = 5               #longueur\n",
    "L = 4               #largeur de la pièce\n",
    "h = 3               #hauteur de la piece\n",
    "Sfenetre = 0.750*0.600\n",
    "Sporte = 2.04*0.7\n",
    "Stot = l*L*h\n",
    "Smur = l*L*h - Sfenetre - Sporte        #surface mur ext\n",
    "hO = 25\n",
    "hi = 7.7"
   ]
  },
  {
   "cell_type": "markdown",
   "metadata": {},
   "source": [
    "Caracteritics "
   ]
  },
  {
   "cell_type": "code",
   "execution_count": 4,
   "metadata": {},
   "outputs": [],
   "source": [
    "lambdafenetre = 1.4\n",
    "\n",
    "lambdaiso = 0.046\n",
    "lambdabeton = 1.4\n",
    "\n",
    "lambdaporte = 0.15 #porte en bois\n",
    "\n",
    "densite_beton = 2300.0\n",
    "densite_iso = 24.0\n",
    "\n",
    "specific_heat_beton = 880\n",
    "specific_heat_iso =1000\n",
    "\n",
    "epaisseur_beton = 0.25\n",
    "epaisseur_iso = 0.15\n",
    "\n",
    "densite_air = 1.2\n",
    "specific_heat_air = 1000"
   ]
  },
  {
   "cell_type": "markdown",
   "metadata": {},
   "source": [
    "Other caracteristics"
   ]
  },
  {
   "cell_type": "code",
   "execution_count": 5,
   "metadata": {},
   "outputs": [],
   "source": [
    "air = {'Density': 1.2,                      # kg/m³\n",
    "       'Specific heat': 1000}               # J/(kg·K)\n",
    "pd.DataFrame(air, index=['Air'])\n",
    "\n",
    "concrete = {'Conductivity': 1.400,          # W/(m·K)\n",
    "            'Density': 2300.0,              # kg/m³\n",
    "            'Specific heat': 880,           # J/(kg⋅K)\n",
    "            'Width': 0.25,                   # m\n",
    "            'Surface': Smur}            # m²\n",
    "\n",
    "insulation = {'Conductivity': 0.046,        # W/(m·K)\n",
    "              'Density': 24.0,              # kg/m³\n",
    "              'Specific heat': 1000,        # J/(kg⋅K)\n",
    "              'Width': 0.15,                # m\n",
    "              'Surface': Smur}          # m²\n",
    "\n",
    "glass = {'Conductivity': 1.4,               # W/(m·K)\n",
    "         'Density': 2500,                   # kg/m³\n",
    "         'Specific heat': 1210,             # J/(kg⋅K)\n",
    "         'Width': 0.08,                     # m\n",
    "         'Surface': Sfenetre}                   # m²\n",
    "\n",
    "wall = pd.DataFrame.from_dict({'Layer_out': concrete,\n",
    "                               'Layer_in': insulation,\n",
    "                               'Glass': glass},\n",
    "                              orient='index')\n",
    "\n",
    "# ventilation flow rate\n",
    "Va = l**3                   # m³, volume of air\n",
    "ACH = 1                     # 1/h, air changes per hour\n",
    "Va_dot = ACH / 3600 * Va    # m³/s, air infiltration\n",
    "\n",
    "\n",
    "Kp = 0"
   ]
  },
  {
   "cell_type": "markdown",
   "metadata": {},
   "source": [
    "Matrix C computation "
   ]
  },
  {
   "cell_type": "code",
   "execution_count": 6,
   "metadata": {},
   "outputs": [
    {
     "name": "stdout",
     "output_type": "stream",
     "text": [
      "C =\n",
      "[[9803244.        0.        0.        0.        0.        0. ]\n",
      " [      0.  9803244.        0.        0.        0.        0. ]\n",
      " [      0.        0.  9803244.        0.        0.        0. ]\n",
      " [      0.        0.        0.   104619.6       0.        0. ]\n",
      " [      0.        0.        0.        0.   104619.6       0. ]\n",
      " [      0.        0.        0.        0.        0.   150000. ]]\n"
     ]
    }
   ],
   "source": [
    "Cmur = densite_beton * specific_heat_beton * epaisseur_beton * Smur\n",
    "Ciso = densite_iso * specific_heat_iso * epaisseur_iso * Smur\n",
    "Cair = densite_air * specific_heat_air * Va\n",
    "\n",
    "C0 = Cmur/3\n",
    "C1 = Cmur/3\n",
    "C2 = Cmur/3\n",
    "C3 = Ciso/2\n",
    "C4 = Ciso/2\n",
    "C5 = Cair\n",
    "\n",
    "C_values = [C0, C1, C2, C3, C4, C5]\n",
    "C = np.diag(C_values)\n",
    "\n",
    "np.set_printoptions(precision=2, suppress=True)\n",
    "\n",
    "print(\"C =\")\n",
    "print(C)"
   ]
  },
  {
   "cell_type": "markdown",
   "metadata": {},
   "source": [
    "Modelling "
   ]
  },
  {
   "cell_type": "code",
   "execution_count": 7,
   "metadata": {},
   "outputs": [],
   "source": [
    "# temperature nodes\n",
    "θ = ['θ0', 'θ1', 'θ2', 'θ3', 'θ4', 'θ5']\n",
    "\n",
    "# flow-rate branches\n",
    "q = ['q0', 'q1', 'q2', 'q3', 'q4', 'q5', 'q6', 'q7', 'q8', 'q9']\n",
    "\n",
    "# temperature nodes\n",
    "nθ = 6     # number of temperature nodes\n",
    "θ = [f'θ{i}' for i in range(6)]\n",
    "\n",
    "# flow-rate branches\n",
    "nq = 10     # number of flow branches\n",
    "q = [f'q{i}' for i in range(10)]"
   ]
  },
  {
   "cell_type": "markdown",
   "metadata": {},
   "source": [
    "Matrix A computation "
   ]
  },
  {
   "cell_type": "code",
   "execution_count": 14,
   "metadata": {},
   "outputs": [
    {
     "name": "stdout",
     "output_type": "stream",
     "text": [
      "A=\n",
      "[[ 1.  0.  0.  0.  0.  0.]\n",
      " [-1.  1.  0.  0.  0.  0.]\n",
      " [ 0. -1.  1.  0.  0.  0.]\n",
      " [ 0.  0. -1.  1.  0.  0.]\n",
      " [ 0.  0.  0. -1.  1.  0.]\n",
      " [ 0.  0.  0.  0. -1.  1.]\n",
      " [ 0.  0.  0.  0.  0.  1.]\n",
      " [ 0.  0.  0.  0.  0.  1.]\n",
      " [ 0.  0.  0.  0.  0.  1.]\n",
      " [ 0.  0.  0.  0.  0.  1.]]\n"
     ]
    },
    {
     "data": {
      "text/html": [
       "<div>\n",
       "<style scoped>\n",
       "    .dataframe tbody tr th:only-of-type {\n",
       "        vertical-align: middle;\n",
       "    }\n",
       "\n",
       "    .dataframe tbody tr th {\n",
       "        vertical-align: top;\n",
       "    }\n",
       "\n",
       "    .dataframe thead th {\n",
       "        text-align: right;\n",
       "    }\n",
       "</style>\n",
       "<table border=\"1\" class=\"dataframe\">\n",
       "  <thead>\n",
       "    <tr style=\"text-align: right;\">\n",
       "      <th></th>\n",
       "      <th>θ0</th>\n",
       "      <th>θ1</th>\n",
       "      <th>θ2</th>\n",
       "      <th>θ3</th>\n",
       "      <th>θ4</th>\n",
       "      <th>θ5</th>\n",
       "    </tr>\n",
       "  </thead>\n",
       "  <tbody>\n",
       "    <tr>\n",
       "      <th>q0</th>\n",
       "      <td>1.0</td>\n",
       "      <td>0.0</td>\n",
       "      <td>0.0</td>\n",
       "      <td>0.0</td>\n",
       "      <td>0.0</td>\n",
       "      <td>0.0</td>\n",
       "    </tr>\n",
       "    <tr>\n",
       "      <th>q1</th>\n",
       "      <td>-1.0</td>\n",
       "      <td>1.0</td>\n",
       "      <td>0.0</td>\n",
       "      <td>0.0</td>\n",
       "      <td>0.0</td>\n",
       "      <td>0.0</td>\n",
       "    </tr>\n",
       "    <tr>\n",
       "      <th>q2</th>\n",
       "      <td>0.0</td>\n",
       "      <td>-1.0</td>\n",
       "      <td>1.0</td>\n",
       "      <td>0.0</td>\n",
       "      <td>0.0</td>\n",
       "      <td>0.0</td>\n",
       "    </tr>\n",
       "    <tr>\n",
       "      <th>q3</th>\n",
       "      <td>0.0</td>\n",
       "      <td>0.0</td>\n",
       "      <td>-1.0</td>\n",
       "      <td>1.0</td>\n",
       "      <td>0.0</td>\n",
       "      <td>0.0</td>\n",
       "    </tr>\n",
       "    <tr>\n",
       "      <th>q4</th>\n",
       "      <td>0.0</td>\n",
       "      <td>0.0</td>\n",
       "      <td>0.0</td>\n",
       "      <td>-1.0</td>\n",
       "      <td>1.0</td>\n",
       "      <td>0.0</td>\n",
       "    </tr>\n",
       "    <tr>\n",
       "      <th>q5</th>\n",
       "      <td>0.0</td>\n",
       "      <td>0.0</td>\n",
       "      <td>0.0</td>\n",
       "      <td>0.0</td>\n",
       "      <td>-1.0</td>\n",
       "      <td>1.0</td>\n",
       "    </tr>\n",
       "    <tr>\n",
       "      <th>q6</th>\n",
       "      <td>0.0</td>\n",
       "      <td>0.0</td>\n",
       "      <td>0.0</td>\n",
       "      <td>0.0</td>\n",
       "      <td>0.0</td>\n",
       "      <td>1.0</td>\n",
       "    </tr>\n",
       "    <tr>\n",
       "      <th>q7</th>\n",
       "      <td>0.0</td>\n",
       "      <td>0.0</td>\n",
       "      <td>0.0</td>\n",
       "      <td>0.0</td>\n",
       "      <td>0.0</td>\n",
       "      <td>1.0</td>\n",
       "    </tr>\n",
       "    <tr>\n",
       "      <th>q8</th>\n",
       "      <td>0.0</td>\n",
       "      <td>0.0</td>\n",
       "      <td>0.0</td>\n",
       "      <td>0.0</td>\n",
       "      <td>0.0</td>\n",
       "      <td>1.0</td>\n",
       "    </tr>\n",
       "    <tr>\n",
       "      <th>q9</th>\n",
       "      <td>0.0</td>\n",
       "      <td>0.0</td>\n",
       "      <td>0.0</td>\n",
       "      <td>0.0</td>\n",
       "      <td>0.0</td>\n",
       "      <td>1.0</td>\n",
       "    </tr>\n",
       "  </tbody>\n",
       "</table>\n",
       "</div>"
      ],
      "text/plain": [
       "     θ0   θ1   θ2   θ3   θ4   θ5\n",
       "q0  1.0  0.0  0.0  0.0  0.0  0.0\n",
       "q1 -1.0  1.0  0.0  0.0  0.0  0.0\n",
       "q2  0.0 -1.0  1.0  0.0  0.0  0.0\n",
       "q3  0.0  0.0 -1.0  1.0  0.0  0.0\n",
       "q4  0.0  0.0  0.0 -1.0  1.0  0.0\n",
       "q5  0.0  0.0  0.0  0.0 -1.0  1.0\n",
       "q6  0.0  0.0  0.0  0.0  0.0  1.0\n",
       "q7  0.0  0.0  0.0  0.0  0.0  1.0\n",
       "q8  0.0  0.0  0.0  0.0  0.0  1.0\n",
       "q9  0.0  0.0  0.0  0.0  0.0  1.0"
      ]
     },
     "execution_count": 14,
     "metadata": {},
     "output_type": "execute_result"
    }
   ],
   "source": [
    "A = np.zeros([10, 6])       # n° of branches X n° of nodes\n",
    "A[0, 0] = 1                 # branch 0: -> node 0\n",
    "A[1, 0], A[1, 1] = -1, 1    # branch 1: node 0 -> node 1\n",
    "A[2, 1], A[2, 2] = -1, 1    # branch 2: node 1 -> node 2\n",
    "A[3, 2], A[3, 3] = -1, 1    # branch 3: node 2 -> node 3\n",
    "A[4, 3], A[4, 4] = -1, 1    # branch 4: node 3 -> node 4\n",
    "A[5, 5], A[5, 4] = 1, -1   # branch 5: node 4 -> node 5\n",
    "A[6, 5] = 1    # branch 6: node 4 -> node 6\n",
    "A[7, 5] =1    # branch 7: node 5 -> node 6\n",
    "A[8, 5] = 1                 # branch 8: -> node 7\n",
    "A[9, 5]= 1    # branch 9: node 5 -> node 7\n",
    "print(\"A=\")\n",
    "print(A)\n",
    "pd.DataFrame(A, index=q, columns=θ)"
   ]
  },
  {
   "cell_type": "markdown",
   "metadata": {},
   "source": [
    "Matrix G computation "
   ]
  },
  {
   "cell_type": "code",
   "execution_count": 9,
   "metadata": {},
   "outputs": [
    {
     "name": "stdout",
     "output_type": "stream",
     "text": [
      "G =\n",
      "[[1500.      0.      0.      0.      0.      0.      0.      0.      0.\n",
      "     0.  ]\n",
      " [   0.    650.97    0.      0.      0.      0.      0.      0.      0.\n",
      "     0.  ]\n",
      " [   0.      0.    650.97    0.      0.      0.      0.      0.      0.\n",
      "     0.  ]\n",
      " [   0.      0.      0.     35.65    0.      0.      0.      0.      0.\n",
      "     0.  ]\n",
      " [   0.      0.      0.      0.     35.65    0.      0.      0.      0.\n",
      "     0.  ]\n",
      " [   0.      0.      0.      0.      0.    462.      0.      0.      0.\n",
      "     0.  ]\n",
      " [   0.      0.      0.      0.      0.      0.      7.87    0.      0.\n",
      "     0.  ]\n",
      " [   0.      0.      0.      0.      0.      0.      0.      0.      0.\n",
      "     0.  ]\n",
      " [   0.      0.      0.      0.      0.      0.      0.      0.     41.67\n",
      "     0.  ]\n",
      " [   0.      0.      0.      0.      0.      0.      0.      0.      0.\n",
      "     0.54]]\n"
     ]
    }
   ],
   "source": [
    "G0 = hO*Stot\n",
    "\n",
    "G1 = (lambdabeton/0.125)*Smur\n",
    "G2 = (lambdabeton/0.125)*Smur\n",
    "\n",
    "G3 = (lambdaiso/0.075)*Smur\n",
    "G4 = (lambdaiso/0.075)*Smur\n",
    "\n",
    "G5 =  hi*Stot\n",
    "\n",
    "G6 =(lambdafenetre/0.08)*Sfenetre\n",
    "\n",
    "G7 = Kp\n",
    "\n",
    "G8 = air['Density'] * air['Specific heat'] * Va_dot\n",
    "\n",
    "G9 =(lambdaporte/0.4)*Sporte\n",
    "\n",
    "\n",
    "\n",
    "G_values = [G0, G1, G2, G3, G4, G5, G6, G7, G8, G9]\n",
    "G = np.diag(G_values)\n",
    "\n",
    "np.set_printoptions(precision=2, suppress=True)\n",
    "\n",
    "print(\"G =\")\n",
    "print(G)\n"
   ]
  },
  {
   "cell_type": "markdown",
   "metadata": {},
   "source": [
    "Steady state response "
   ]
  },
  {
   "cell_type": "code",
   "execution_count": 15,
   "metadata": {},
   "outputs": [
    {
     "name": "stdout",
     "output_type": "stream",
     "text": [
      "When To = 1°C, the temperatures in steady-state are: [1. 1. 1. 1. 1. 1.] °C\n",
      "The indoor temperature is: 1.000 °C\n"
     ]
    }
   ],
   "source": [
    "# Input vectors\n",
    "b = np.zeros(10)  # temperatures\n",
    "f = np.zeros(6)  # flow rates\n",
    "\n",
    "\n",
    "b[0] = 1\n",
    "b[6] = 1\n",
    "b[7] = 1\n",
    "b[8] = 1\n",
    "b[9] = 1\n",
    "\n",
    "θ_steady_To = np.linalg.inv(A.T @ G @ A) @ (A.T @ G @ b + f)\n",
    "\n",
    "\n",
    "np.set_printoptions(precision=3)\n",
    "\n",
    "print('When To = 1°C, the temperatures in steady-state are:', θ_steady_To, '°C')\n",
    "print(f'The indoor temperature is: {θ_steady_To[-1]:.3f} °C')"
   ]
  }
 ],
 "metadata": {
  "kernelspec": {
   "display_name": "Python 3",
   "language": "python",
   "name": "python3"
  },
  "language_info": {
   "codemirror_mode": {
    "name": "ipython",
    "version": 3
   },
   "file_extension": ".py",
   "mimetype": "text/x-python",
   "name": "python",
   "nbconvert_exporter": "python",
   "pygments_lexer": "ipython3",
   "version": "3.12.3"
  }
 },
 "nbformat": 4,
 "nbformat_minor": 2
}
